{
 "cells": [
  {
   "cell_type": "markdown",
   "metadata": {},
   "source": [
    "# LABS-5: Fairness in Machine Learning\n",
    "\n",
    "In this lab we will explore an example of unnmitigated machine learning to observe how a model performs for different protected classes. We will be using the Fairlearn package to calculate various metrics to help us understand how our model performs across different classes. \n",
    "\n",
    "Check out their user guide for more information on the package! https://fairlearn.org/v0.10/user_guide/fairness_in_machine_learning.html"
   ]
  },
  {
   "cell_type": "code",
   "execution_count": 14,
   "metadata": {},
   "outputs": [
    {
     "name": "stdout",
     "output_type": "stream",
     "text": [
      "Requirement already satisfied: fairlearn in c:\\users\\wat6sv\\appdata\\local\\miniconda3\\lib\\site-packages (0.9.0)\n",
      "Requirement already satisfied: numpy>=1.18.0 in c:\\users\\wat6sv\\appdata\\local\\miniconda3\\lib\\site-packages (from fairlearn) (1.25.2)\n",
      "Requirement already satisfied: pandas>=0.25.2 in c:\\users\\wat6sv\\appdata\\local\\miniconda3\\lib\\site-packages (from fairlearn) (2.0.3)\n",
      "Requirement already satisfied: scikit-learn>=0.22.1 in c:\\users\\wat6sv\\appdata\\local\\miniconda3\\lib\\site-packages (from fairlearn) (1.2.2)\n",
      "Requirement already satisfied: scipy>=1.5.0 in c:\\users\\wat6sv\\appdata\\local\\miniconda3\\lib\\site-packages (from fairlearn) (1.11.1)\n",
      "Requirement already satisfied: python-dateutil>=2.8.2 in c:\\users\\wat6sv\\appdata\\local\\miniconda3\\lib\\site-packages (from pandas>=0.25.2->fairlearn) (2.8.2)\n",
      "Requirement already satisfied: pytz>=2020.1 in c:\\users\\wat6sv\\appdata\\local\\miniconda3\\lib\\site-packages (from pandas>=0.25.2->fairlearn) (2022.7)\n",
      "Requirement already satisfied: tzdata>=2022.1 in c:\\users\\wat6sv\\appdata\\local\\miniconda3\\lib\\site-packages (from pandas>=0.25.2->fairlearn) (2023.3)\n",
      "Requirement already satisfied: joblib>=1.1.1 in c:\\users\\wat6sv\\appdata\\local\\miniconda3\\lib\\site-packages (from scikit-learn>=0.22.1->fairlearn) (1.2.0)\n",
      "Requirement already satisfied: threadpoolctl>=2.0.0 in c:\\users\\wat6sv\\appdata\\local\\miniconda3\\lib\\site-packages (from scikit-learn>=0.22.1->fairlearn) (2.2.0)\n",
      "Requirement already satisfied: six>=1.5 in c:\\users\\wat6sv\\appdata\\local\\miniconda3\\lib\\site-packages (from python-dateutil>=2.8.2->pandas>=0.25.2->fairlearn) (1.16.0)\n"
     ]
    }
   ],
   "source": [
    "# You may have to run this cell to install the fairlearn package we'll be using today. You should only have to do this once.\n",
    "\n",
    "!pip install fairlearn"
   ]
  },
  {
   "cell_type": "code",
   "execution_count": 15,
   "metadata": {},
   "outputs": [],
   "source": [
    "# import packages\n",
    "\n",
    "import pandas as pd\n",
    "import numpy as np\n",
    "import fairlearn.metrics\n",
    "from fairlearn.metrics import MetricFrame\n",
    "from fairlearn.metrics import count, true_positive_rate, false_positive_rate, selection_rate, demographic_parity_ratio\n",
    "\n",
    "import matplotlib.pyplot as plt\n",
    "\n",
    "from sklearn.linear_model import LogisticRegression\n",
    "from sklearn.model_selection import train_test_split\n",
    "from sklearn.preprocessing import MinMaxScaler\n",
    "from sklearn.metrics import confusion_matrix\n",
    "\n",
    "import warnings\n",
    "warnings.filterwarnings(\"ignore\", category=DeprecationWarning) ## ignore deprecation warnings"
   ]
  },
  {
   "cell_type": "markdown",
   "metadata": {},
   "source": [
    "# Adult Census Data\n",
    "\n",
    "In this model we will be using demographic variables from census data to predict whether someone makes >50k or <=50k using data from: https://archive.ics.uci.edu/dataset/2/adult. A truncated/precleaned version of this is accessible through the `fairlearn` package, so we will import it from there."
   ]
  },
  {
   "cell_type": "markdown",
   "metadata": {},
   "source": [
    "### Load in and explore/clean up the data"
   ]
  },
  {
   "cell_type": "code",
   "execution_count": 16,
   "metadata": {},
   "outputs": [
    {
     "data": {
      "text/html": [
       "<div>\n",
       "<style scoped>\n",
       "    .dataframe tbody tr th:only-of-type {\n",
       "        vertical-align: middle;\n",
       "    }\n",
       "\n",
       "    .dataframe tbody tr th {\n",
       "        vertical-align: top;\n",
       "    }\n",
       "\n",
       "    .dataframe thead th {\n",
       "        text-align: right;\n",
       "    }\n",
       "</style>\n",
       "<table border=\"1\" class=\"dataframe\">\n",
       "  <thead>\n",
       "    <tr style=\"text-align: right;\">\n",
       "      <th></th>\n",
       "      <th>age</th>\n",
       "      <th>workclass</th>\n",
       "      <th>fnlwgt</th>\n",
       "      <th>education</th>\n",
       "      <th>education-num</th>\n",
       "      <th>marital-status</th>\n",
       "      <th>occupation</th>\n",
       "      <th>relationship</th>\n",
       "      <th>race</th>\n",
       "      <th>sex</th>\n",
       "      <th>capital-gain</th>\n",
       "      <th>capital-loss</th>\n",
       "      <th>hours-per-week</th>\n",
       "      <th>native-country</th>\n",
       "      <th>class</th>\n",
       "    </tr>\n",
       "  </thead>\n",
       "  <tbody>\n",
       "    <tr>\n",
       "      <th>0</th>\n",
       "      <td>25.0</td>\n",
       "      <td>Private</td>\n",
       "      <td>226802.0</td>\n",
       "      <td>11th</td>\n",
       "      <td>7.0</td>\n",
       "      <td>Never-married</td>\n",
       "      <td>Machine-op-inspct</td>\n",
       "      <td>Own-child</td>\n",
       "      <td>Black</td>\n",
       "      <td>Male</td>\n",
       "      <td>0.0</td>\n",
       "      <td>0.0</td>\n",
       "      <td>40.0</td>\n",
       "      <td>United-States</td>\n",
       "      <td>&lt;=50K</td>\n",
       "    </tr>\n",
       "    <tr>\n",
       "      <th>1</th>\n",
       "      <td>38.0</td>\n",
       "      <td>Private</td>\n",
       "      <td>89814.0</td>\n",
       "      <td>HS-grad</td>\n",
       "      <td>9.0</td>\n",
       "      <td>Married-civ-spouse</td>\n",
       "      <td>Farming-fishing</td>\n",
       "      <td>Husband</td>\n",
       "      <td>White</td>\n",
       "      <td>Male</td>\n",
       "      <td>0.0</td>\n",
       "      <td>0.0</td>\n",
       "      <td>50.0</td>\n",
       "      <td>United-States</td>\n",
       "      <td>&lt;=50K</td>\n",
       "    </tr>\n",
       "    <tr>\n",
       "      <th>2</th>\n",
       "      <td>28.0</td>\n",
       "      <td>Local-gov</td>\n",
       "      <td>336951.0</td>\n",
       "      <td>Assoc-acdm</td>\n",
       "      <td>12.0</td>\n",
       "      <td>Married-civ-spouse</td>\n",
       "      <td>Protective-serv</td>\n",
       "      <td>Husband</td>\n",
       "      <td>White</td>\n",
       "      <td>Male</td>\n",
       "      <td>0.0</td>\n",
       "      <td>0.0</td>\n",
       "      <td>40.0</td>\n",
       "      <td>United-States</td>\n",
       "      <td>&gt;50K</td>\n",
       "    </tr>\n",
       "    <tr>\n",
       "      <th>3</th>\n",
       "      <td>44.0</td>\n",
       "      <td>Private</td>\n",
       "      <td>160323.0</td>\n",
       "      <td>Some-college</td>\n",
       "      <td>10.0</td>\n",
       "      <td>Married-civ-spouse</td>\n",
       "      <td>Machine-op-inspct</td>\n",
       "      <td>Husband</td>\n",
       "      <td>Black</td>\n",
       "      <td>Male</td>\n",
       "      <td>7688.0</td>\n",
       "      <td>0.0</td>\n",
       "      <td>40.0</td>\n",
       "      <td>United-States</td>\n",
       "      <td>&gt;50K</td>\n",
       "    </tr>\n",
       "    <tr>\n",
       "      <th>4</th>\n",
       "      <td>18.0</td>\n",
       "      <td>NaN</td>\n",
       "      <td>103497.0</td>\n",
       "      <td>Some-college</td>\n",
       "      <td>10.0</td>\n",
       "      <td>Never-married</td>\n",
       "      <td>NaN</td>\n",
       "      <td>Own-child</td>\n",
       "      <td>White</td>\n",
       "      <td>Female</td>\n",
       "      <td>0.0</td>\n",
       "      <td>0.0</td>\n",
       "      <td>30.0</td>\n",
       "      <td>United-States</td>\n",
       "      <td>&lt;=50K</td>\n",
       "    </tr>\n",
       "  </tbody>\n",
       "</table>\n",
       "</div>"
      ],
      "text/plain": [
       "    age  workclass    fnlwgt     education  education-num      marital-status  \\\n",
       "0  25.0    Private  226802.0          11th            7.0       Never-married   \n",
       "1  38.0    Private   89814.0       HS-grad            9.0  Married-civ-spouse   \n",
       "2  28.0  Local-gov  336951.0    Assoc-acdm           12.0  Married-civ-spouse   \n",
       "3  44.0    Private  160323.0  Some-college           10.0  Married-civ-spouse   \n",
       "4  18.0        NaN  103497.0  Some-college           10.0       Never-married   \n",
       "\n",
       "          occupation relationship   race     sex  capital-gain  capital-loss  \\\n",
       "0  Machine-op-inspct    Own-child  Black    Male           0.0           0.0   \n",
       "1    Farming-fishing      Husband  White    Male           0.0           0.0   \n",
       "2    Protective-serv      Husband  White    Male           0.0           0.0   \n",
       "3  Machine-op-inspct      Husband  Black    Male        7688.0           0.0   \n",
       "4                NaN    Own-child  White  Female           0.0           0.0   \n",
       "\n",
       "   hours-per-week native-country  class  \n",
       "0            40.0  United-States  <=50K  \n",
       "1            50.0  United-States  <=50K  \n",
       "2            40.0  United-States   >50K  \n",
       "3            40.0  United-States   >50K  \n",
       "4            30.0  United-States  <=50K  "
      ]
     },
     "execution_count": 16,
     "metadata": {},
     "output_type": "execute_result"
    }
   ],
   "source": [
    "## import and view the data\n",
    "\n",
    "from fairlearn.datasets import fetch_adult\n",
    "census_raw = fetch_adult(as_frame=True)\n",
    "census = census_raw.frame #this grabs the data in a pd.dataframe format\n",
    "\n",
    "\n",
    "census.head() # this prints the first 5 lines so we can see the format of the data"
   ]
  },
  {
   "cell_type": "code",
   "execution_count": 17,
   "metadata": {},
   "outputs": [],
   "source": [
    "## create lists of categorical/numerical columns\n",
    "\n",
    "census_catcols = list(census.select_dtypes('category')) # categorical columns\n",
    "\n",
    "census_numcols = list(set(census.columns) - set(census_catcols)) # numerical columns"
   ]
  },
  {
   "cell_type": "code",
   "execution_count": 18,
   "metadata": {},
   "outputs": [
    {
     "data": {
      "text/html": [
       "<div>\n",
       "<style scoped>\n",
       "    .dataframe tbody tr th:only-of-type {\n",
       "        vertical-align: middle;\n",
       "    }\n",
       "\n",
       "    .dataframe tbody tr th {\n",
       "        vertical-align: top;\n",
       "    }\n",
       "\n",
       "    .dataframe thead th {\n",
       "        text-align: right;\n",
       "    }\n",
       "</style>\n",
       "<table border=\"1\" class=\"dataframe\">\n",
       "  <thead>\n",
       "    <tr style=\"text-align: right;\">\n",
       "      <th></th>\n",
       "      <th>count</th>\n",
       "      <th>mean</th>\n",
       "      <th>std</th>\n",
       "      <th>min</th>\n",
       "      <th>25%</th>\n",
       "      <th>50%</th>\n",
       "      <th>75%</th>\n",
       "      <th>max</th>\n",
       "    </tr>\n",
       "  </thead>\n",
       "  <tbody>\n",
       "    <tr>\n",
       "      <th>age</th>\n",
       "      <td>48842.0</td>\n",
       "      <td>38.643585</td>\n",
       "      <td>13.710510</td>\n",
       "      <td>17.0</td>\n",
       "      <td>28.0</td>\n",
       "      <td>37.0</td>\n",
       "      <td>48.0</td>\n",
       "      <td>90.0</td>\n",
       "    </tr>\n",
       "    <tr>\n",
       "      <th>fnlwgt</th>\n",
       "      <td>48842.0</td>\n",
       "      <td>189664.134597</td>\n",
       "      <td>105604.025423</td>\n",
       "      <td>12285.0</td>\n",
       "      <td>117550.5</td>\n",
       "      <td>178144.5</td>\n",
       "      <td>237642.0</td>\n",
       "      <td>1490400.0</td>\n",
       "    </tr>\n",
       "    <tr>\n",
       "      <th>education-num</th>\n",
       "      <td>48842.0</td>\n",
       "      <td>10.078089</td>\n",
       "      <td>2.570973</td>\n",
       "      <td>1.0</td>\n",
       "      <td>9.0</td>\n",
       "      <td>10.0</td>\n",
       "      <td>12.0</td>\n",
       "      <td>16.0</td>\n",
       "    </tr>\n",
       "    <tr>\n",
       "      <th>capital-gain</th>\n",
       "      <td>48842.0</td>\n",
       "      <td>1079.067626</td>\n",
       "      <td>7452.019058</td>\n",
       "      <td>0.0</td>\n",
       "      <td>0.0</td>\n",
       "      <td>0.0</td>\n",
       "      <td>0.0</td>\n",
       "      <td>99999.0</td>\n",
       "    </tr>\n",
       "    <tr>\n",
       "      <th>capital-loss</th>\n",
       "      <td>48842.0</td>\n",
       "      <td>87.502314</td>\n",
       "      <td>403.004552</td>\n",
       "      <td>0.0</td>\n",
       "      <td>0.0</td>\n",
       "      <td>0.0</td>\n",
       "      <td>0.0</td>\n",
       "      <td>4356.0</td>\n",
       "    </tr>\n",
       "    <tr>\n",
       "      <th>hours-per-week</th>\n",
       "      <td>48842.0</td>\n",
       "      <td>40.422382</td>\n",
       "      <td>12.391444</td>\n",
       "      <td>1.0</td>\n",
       "      <td>40.0</td>\n",
       "      <td>40.0</td>\n",
       "      <td>45.0</td>\n",
       "      <td>99.0</td>\n",
       "    </tr>\n",
       "  </tbody>\n",
       "</table>\n",
       "</div>"
      ],
      "text/plain": [
       "                  count           mean            std      min       25%  \\\n",
       "age             48842.0      38.643585      13.710510     17.0      28.0   \n",
       "fnlwgt          48842.0  189664.134597  105604.025423  12285.0  117550.5   \n",
       "education-num   48842.0      10.078089       2.570973      1.0       9.0   \n",
       "capital-gain    48842.0    1079.067626    7452.019058      0.0       0.0   \n",
       "capital-loss    48842.0      87.502314     403.004552      0.0       0.0   \n",
       "hours-per-week  48842.0      40.422382      12.391444      1.0      40.0   \n",
       "\n",
       "                     50%       75%        max  \n",
       "age                 37.0      48.0       90.0  \n",
       "fnlwgt          178144.5  237642.0  1490400.0  \n",
       "education-num       10.0      12.0       16.0  \n",
       "capital-gain         0.0       0.0    99999.0  \n",
       "capital-loss         0.0       0.0     4356.0  \n",
       "hours-per-week      40.0      45.0       99.0  "
      ]
     },
     "execution_count": 18,
     "metadata": {},
     "output_type": "execute_result"
    }
   ],
   "source": [
    "## get some info on the numerical data - gives us a general idea of spread and center\n",
    "census.describe().T"
   ]
  },
  {
   "cell_type": "code",
   "execution_count": 19,
   "metadata": {},
   "outputs": [
    {
     "data": {
      "image/png": "[encoded data removed]",
      "text/plain": [
       "<Figure size 640x480 with 6 Axes>"
      ]
     },
     "metadata": {},
     "output_type": "display_data"
    }
   ],
   "source": [
    "## Visualize the spread of numeric data\n",
    "\n",
    "fig, axs = plt.subplots(3,2)\n",
    "axs = axs.ravel()\n",
    "for idx,ax in enumerate(axs):\n",
    "    ax.hist(census[census_numcols[idx]])\n",
    "    ax.set_title(census_numcols[idx])\n",
    "plt.tight_layout()"
   ]
  },
  {
   "cell_type": "code",
   "execution_count": 20,
   "metadata": {},
   "outputs": [
    {
     "name": "stdout",
     "output_type": "stream",
     "text": [
      "workclass\n",
      "Private             33906\n",
      "Self-emp-not-inc     3862\n",
      "Local-gov            3136\n",
      "State-gov            1981\n",
      "Self-emp-inc         1695\n",
      "Federal-gov          1432\n",
      "Without-pay            21\n",
      "Never-worked           10\n",
      "Name: count, dtype: int64 \n",
      "\n",
      "education\n",
      "HS-grad         15784\n",
      "Some-college    10878\n",
      "Bachelors        8025\n",
      "Masters          2657\n",
      "Assoc-voc        2061\n",
      "11th             1812\n",
      "Assoc-acdm       1601\n",
      "10th             1389\n",
      "7th-8th           955\n",
      "Prof-school       834\n",
      "9th               756\n",
      "12th              657\n",
      "Doctorate         594\n",
      "5th-6th           509\n",
      "1st-4th           247\n",
      "Preschool          83\n",
      "Name: count, dtype: int64 \n",
      "\n"
     ]
    }
   ],
   "source": [
    "## info on the categorical data\n",
    "# This shows us the levels in the categories for the first 2 category columns\n",
    "\n",
    "for col in census_catcols[:2]:\n",
    "    print(census[col].value_counts(), \"\\n\")\n",
    "\n",
    "# Most of the columns have a ton of categories, we can combine some of them to collapse the categories. \n",
    "# Typically we don't want ot have more than 5ish categories in a given column"
   ]
  },
  {
   "cell_type": "code",
   "execution_count": 21,
   "metadata": {},
   "outputs": [],
   "source": [
    "## Collapsing some categories...\n",
    "\n",
    "# combining similar working classes\n",
    "census['workclass'].replace(['Without-pay', 'Never-worked',], 'No-inc', inplace=True)\n",
    "census['workclass'].replace(['Local-gov', 'State-gov', 'Federal-gov'], 'Gov', inplace=True)\n",
    "# print(census['workclass'].value_counts())\n",
    "\n",
    "# making race binary White/Non-White\n",
    "census['race'] = (census.race.apply(lambda x: x if x == 'White' else \"Non-White\")).astype('category')\n",
    "# print(census['race'].value_counts())\n",
    "\n",
    "# combining similar education classes\n",
    "census['education'].replace(['11th', '10th', '9th', '12th',], 'Some-HS', inplace=True)\n",
    "census['education'].replace(['7th-8th', '5th-6th', '1st-4th', 'Preschool',], 'No-HS', inplace=True)\n",
    "census['education'].replace(['Assoc-voc', 'Assoc-acdm', 'Prof-school'], 'Continued Ed', inplace=True)\n",
    "census['education'].replace(['Bachelors', 'Masters', 'Doctorate'], 'College_+', inplace=True)\n",
    "# print(census['education'].value_counts())\n",
    "\n",
    "# combining similar marital statuses\n",
    "census['marital-status'].replace(['Married-civ-spouse', 'Married-spouse-absent', 'Married-AF-spouse'], 'Married', inplace=True)\n",
    "census['marital-status'].replace(['Divorced', 'Separated', 'Widowed'], 'Was-Married', inplace=True)\n",
    "# print(census['marital-status'].value_counts())\n",
    "\n",
    "# keeping only the top 4 countries (based on number of observations), grouping all others into \"Other\" category\n",
    "top_country = census['native-country'].value_counts()[:5]\n",
    "census['native-country'] = (census['native-country'].apply(lambda x: x if x in top_country else \"Other\")).astype('category')\n",
    "# print(census['native-country'].value_counts())\n",
    "\n",
    "# keeping only the top 4 occupations (based on number of observations), grouping all others into \"Other\" category\n",
    "top_occ = census['occupation'].value_counts()[:5]\n",
    "census['occupation'] = (census['occupation'].apply(lambda x: x if x in top_occ else \"Other\")).astype('category')\n",
    "# print(census['occupation'].value_counts())\n"
   ]
  },
  {
   "cell_type": "markdown",
   "metadata": {},
   "source": [
    "##### A little more pre-processing... "
   ]
  },
  {
   "cell_type": "code",
   "execution_count": 22,
   "metadata": {},
   "outputs": [],
   "source": [
    "# Scale numbers, One hot encode categories\n",
    "\n",
    "census[census_numcols] = MinMaxScaler().fit_transform(census[census_numcols]) #scale the numerical values so they are all on the same scale\n",
    "census_onehot = pd.get_dummies(census, columns = census_catcols) # creates dummy variables to one-hot encode all categorical variables\n",
    "\n",
    "## One hot encoding creates a column for each category in a feature and assigns it a True/False value. \n",
    "## For example, the 'workclass' column will be broken up into a column for each category ('workclass_Gov', 'workclass_No-inc', etc). \n",
    "## A government workclass observation would have a True value in the 'workclass_Gov' column and a False value in all the other workclass columns.\n",
    "## This is a common strategy you'll see in machine learning - also with 1/0 values instead of True/False (respectively)."
   ]
  },
  {
   "cell_type": "code",
   "execution_count": 23,
   "metadata": {},
   "outputs": [
    {
     "data": {
      "text/html": [
       "<div>\n",
       "<style scoped>\n",
       "    .dataframe tbody tr th:only-of-type {\n",
       "        vertical-align: middle;\n",
       "    }\n",
       "\n",
       "    .dataframe tbody tr th {\n",
       "        vertical-align: top;\n",
       "    }\n",
       "\n",
       "    .dataframe thead th {\n",
       "        text-align: right;\n",
       "    }\n",
       "</style>\n",
       "<table border=\"1\" class=\"dataframe\">\n",
       "  <thead>\n",
       "    <tr style=\"text-align: right;\">\n",
       "      <th></th>\n",
       "      <th>age</th>\n",
       "      <th>fnlwgt</th>\n",
       "      <th>education-num</th>\n",
       "      <th>capital-gain</th>\n",
       "      <th>capital-loss</th>\n",
       "      <th>hours-per-week</th>\n",
       "      <th>workclass_Gov</th>\n",
       "      <th>workclass_No-inc</th>\n",
       "      <th>workclass_Private</th>\n",
       "      <th>workclass_Self-emp-inc</th>\n",
       "      <th>...</th>\n",
       "      <th>relationship_Wife</th>\n",
       "      <th>race_Non-White</th>\n",
       "      <th>sex_Female</th>\n",
       "      <th>native-country_Germany</th>\n",
       "      <th>native-country_Mexico</th>\n",
       "      <th>native-country_Other</th>\n",
       "      <th>native-country_Philippines</th>\n",
       "      <th>native-country_Puerto-Rico</th>\n",
       "      <th>native-country_United-States</th>\n",
       "      <th>class_&gt;50K</th>\n",
       "    </tr>\n",
       "  </thead>\n",
       "  <tbody>\n",
       "    <tr>\n",
       "      <th>0</th>\n",
       "      <td>0.109589</td>\n",
       "      <td>0.145129</td>\n",
       "      <td>0.400000</td>\n",
       "      <td>0.000000</td>\n",
       "      <td>0.0</td>\n",
       "      <td>0.397959</td>\n",
       "      <td>False</td>\n",
       "      <td>False</td>\n",
       "      <td>True</td>\n",
       "      <td>False</td>\n",
       "      <td>...</td>\n",
       "      <td>False</td>\n",
       "      <td>True</td>\n",
       "      <td>False</td>\n",
       "      <td>False</td>\n",
       "      <td>False</td>\n",
       "      <td>False</td>\n",
       "      <td>False</td>\n",
       "      <td>False</td>\n",
       "      <td>True</td>\n",
       "      <td>False</td>\n",
       "    </tr>\n",
       "    <tr>\n",
       "      <th>1</th>\n",
       "      <td>0.287671</td>\n",
       "      <td>0.052451</td>\n",
       "      <td>0.533333</td>\n",
       "      <td>0.000000</td>\n",
       "      <td>0.0</td>\n",
       "      <td>0.500000</td>\n",
       "      <td>False</td>\n",
       "      <td>False</td>\n",
       "      <td>True</td>\n",
       "      <td>False</td>\n",
       "      <td>...</td>\n",
       "      <td>False</td>\n",
       "      <td>False</td>\n",
       "      <td>False</td>\n",
       "      <td>False</td>\n",
       "      <td>False</td>\n",
       "      <td>False</td>\n",
       "      <td>False</td>\n",
       "      <td>False</td>\n",
       "      <td>True</td>\n",
       "      <td>False</td>\n",
       "    </tr>\n",
       "    <tr>\n",
       "      <th>2</th>\n",
       "      <td>0.150685</td>\n",
       "      <td>0.219649</td>\n",
       "      <td>0.733333</td>\n",
       "      <td>0.000000</td>\n",
       "      <td>0.0</td>\n",
       "      <td>0.397959</td>\n",
       "      <td>True</td>\n",
       "      <td>False</td>\n",
       "      <td>False</td>\n",
       "      <td>False</td>\n",
       "      <td>...</td>\n",
       "      <td>False</td>\n",
       "      <td>False</td>\n",
       "      <td>False</td>\n",
       "      <td>False</td>\n",
       "      <td>False</td>\n",
       "      <td>False</td>\n",
       "      <td>False</td>\n",
       "      <td>False</td>\n",
       "      <td>True</td>\n",
       "      <td>True</td>\n",
       "    </tr>\n",
       "    <tr>\n",
       "      <th>3</th>\n",
       "      <td>0.369863</td>\n",
       "      <td>0.100153</td>\n",
       "      <td>0.600000</td>\n",
       "      <td>0.076881</td>\n",
       "      <td>0.0</td>\n",
       "      <td>0.397959</td>\n",
       "      <td>False</td>\n",
       "      <td>False</td>\n",
       "      <td>True</td>\n",
       "      <td>False</td>\n",
       "      <td>...</td>\n",
       "      <td>False</td>\n",
       "      <td>True</td>\n",
       "      <td>False</td>\n",
       "      <td>False</td>\n",
       "      <td>False</td>\n",
       "      <td>False</td>\n",
       "      <td>False</td>\n",
       "      <td>False</td>\n",
       "      <td>True</td>\n",
       "      <td>True</td>\n",
       "    </tr>\n",
       "    <tr>\n",
       "      <th>4</th>\n",
       "      <td>0.013699</td>\n",
       "      <td>0.061708</td>\n",
       "      <td>0.600000</td>\n",
       "      <td>0.000000</td>\n",
       "      <td>0.0</td>\n",
       "      <td>0.295918</td>\n",
       "      <td>False</td>\n",
       "      <td>False</td>\n",
       "      <td>False</td>\n",
       "      <td>False</td>\n",
       "      <td>...</td>\n",
       "      <td>False</td>\n",
       "      <td>False</td>\n",
       "      <td>True</td>\n",
       "      <td>False</td>\n",
       "      <td>False</td>\n",
       "      <td>False</td>\n",
       "      <td>False</td>\n",
       "      <td>False</td>\n",
       "      <td>True</td>\n",
       "      <td>False</td>\n",
       "    </tr>\n",
       "  </tbody>\n",
       "</table>\n",
       "<p>5 rows × 41 columns</p>\n",
       "</div>"
      ],
      "text/plain": [
       "        age    fnlwgt  education-num  capital-gain  capital-loss  \\\n",
       "0  0.109589  0.145129       0.400000      0.000000           0.0   \n",
       "1  0.287671  0.052451       0.533333      0.000000           0.0   \n",
       "2  0.150685  0.219649       0.733333      0.000000           0.0   \n",
       "3  0.369863  0.100153       0.600000      0.076881           0.0   \n",
       "4  0.013699  0.061708       0.600000      0.000000           0.0   \n",
       "\n",
       "   hours-per-week  workclass_Gov  workclass_No-inc  workclass_Private  \\\n",
       "0        0.397959          False             False               True   \n",
       "1        0.500000          False             False               True   \n",
       "2        0.397959           True             False              False   \n",
       "3        0.397959          False             False               True   \n",
       "4        0.295918          False             False              False   \n",
       "\n",
       "   workclass_Self-emp-inc  ...  relationship_Wife  race_Non-White  sex_Female  \\\n",
       "0                   False  ...              False            True       False   \n",
       "1                   False  ...              False           False       False   \n",
       "2                   False  ...              False           False       False   \n",
       "3                   False  ...              False            True       False   \n",
       "4                   False  ...              False           False        True   \n",
       "\n",
       "   native-country_Germany  native-country_Mexico  native-country_Other  \\\n",
       "0                   False                  False                 False   \n",
       "1                   False                  False                 False   \n",
       "2                   False                  False                 False   \n",
       "3                   False                  False                 False   \n",
       "4                   False                  False                 False   \n",
       "\n",
       "   native-country_Philippines  native-country_Puerto-Rico  \\\n",
       "0                       False                       False   \n",
       "1                       False                       False   \n",
       "2                       False                       False   \n",
       "3                       False                       False   \n",
       "4                       False                       False   \n",
       "\n",
       "   native-country_United-States  class_>50K  \n",
       "0                          True       False  \n",
       "1                          True       False  \n",
       "2                          True        True  \n",
       "3                          True        True  \n",
       "4                          True       False  \n",
       "\n",
       "[5 rows x 41 columns]"
      ]
     },
     "execution_count": 23,
     "metadata": {},
     "output_type": "execute_result"
    }
   ],
   "source": [
    "census_onehot.drop(['class_<=50K', 'race_White', 'sex_Male'], axis=1, inplace=True) # drop binary category duplicates\n",
    "census_onehot.head() # visualize what the data looks like after being scaled/one hot encoded"
   ]
  },
  {
   "cell_type": "markdown",
   "metadata": {},
   "source": [
    "Finally, we need to split it into a training set (to build our model) and testing set (to see how it performs on data it was not trained on).\n",
    "\n",
    "We also need to split our data into our target (\"class_>50K\" - denoted as y) and features (everything else - denoted as x)"
   ]
  },
  {
   "cell_type": "code",
   "execution_count": 24,
   "metadata": {},
   "outputs": [],
   "source": [
    "# split the data into train and test for model\n",
    "\n",
    "#seperate into features and target (\"class_>50K\")\n",
    "census_x = census_onehot.loc[:, census_onehot.columns != \"class_>50K\"]\n",
    "census_y = census_onehot.loc[:, census_onehot.columns == \"class_>50K\"]\n",
    "\n",
    "#train/test split (75/25)\n",
    "X_train, X_test, y_train, y_test = train_test_split(census_x, census_y, test_size=0.25, random_state=9658)"
   ]
  },
  {
   "cell_type": "markdown",
   "metadata": {},
   "source": [
    "# Now, let's look at our data and model and evaluate the fairness\n",
    "\n",
    "You will answer the following questions using the code/output below. "
   ]
  },
  {
   "cell_type": "markdown",
   "metadata": {},
   "source": [
    "### Questions\n",
    "\n",
    "1. The metrics we will be using in this lab are True Positive Rate, False Positive Rate, Selection Rate, Demographic Parity Ratio, and Equalized Odds Ratio. Define each of these metrics, including any relevant math equations, the range (i.e. what number represents complete fairness? Unfairness?), and the situational implication of what this metric represents. \n",
    "\n",
    "2. What are the protected classes in this dataset? Are these classes equally represented in the data? \n",
    "\n",
    "3. For each protected class, what group is being favored in the model?\n",
    "\n",
    "4. Based on the fairness metrics you observed, is the model fair – why/why not? \n",
    "\n",
    "5. Given the goals of this model, do you think it should be used? Why/why not."
   ]
  },
  {
   "cell_type": "markdown",
   "metadata": {},
   "source": [
    "### Looking at the data distribution\n",
    "\n",
    "Type the name of the protected class you'd like to explore in the quotes below. Be sure to use the exact name (case sensitive!) of the column from the data frame above."
   ]
  },
  {
   "cell_type": "code",
   "execution_count": 25,
   "metadata": {},
   "outputs": [
    {
     "name": "stdout",
     "output_type": "stream",
     "text": [
      "sex\n",
      "Male      32650\n",
      "Female    16192\n",
      "Name: count, dtype: int64\n"
     ]
    },
    {
     "data": {
      "image/png": "[encoded data removed]",
      "text/plain": [
       "<Figure size 640x480 with 1 Axes>"
      ]
     },
     "metadata": {},
     "output_type": "display_data"
    }
   ],
   "source": [
    "protectedClass = \"sex\" # type the protected class you'd like to explore in the quotes here\n",
    "\n",
    "print(census[protectedClass].value_counts()) #print the number of observations in each class\n",
    "\n",
    "#visualize the difference in class representation\n",
    "plt.bar(census[protectedClass].value_counts().index.values, census[protectedClass].value_counts().values)\n",
    "plt.ylabel('count')\n",
    "plt.xlabel(protectedClass)\n",
    "plt.title(f\"Proctected Class Distribution - {protectedClass}\")\n",
    "plt.show()"
   ]
  },
  {
   "cell_type": "markdown",
   "metadata": {},
   "source": [
    "## Model buliding\n",
    "\n",
    "It's finally time to build our model!\n",
    "\n",
    "We'll be building a simple logistic regression model to predict if a person makes more than 50k a year.\n",
    "\n",
    "Basically, a logistic regression works by calculating a *probability* of an observation being in a spcified class for the target variable. So in this case, our model will produce a probability of a person making more than 50k. This probability is compared to a threshold value, and if the probability is above the threshold is will be categorized as a positive outcome (in this case, making more thank 50k). For more information on logistic regressions, check out this IBM page: https://www.ibm.com/topics/logistic-regression#:~:text=Logistic%20regression%20estimates%20the%20probability,given%20dataset%20of%20independent%20variables. "
   ]
  },
  {
   "cell_type": "code",
   "execution_count": 26,
   "metadata": {},
   "outputs": [
    {
     "name": "stderr",
     "output_type": "stream",
     "text": [
      "c:\\Users\\wat6sv\\AppData\\Local\\miniconda3\\Lib\\site-packages\\sklearn\\utils\\validation.py:1143: DataConversionWarning: A column-vector y was passed when a 1d array was expected. Please change the shape of y to (n_samples, ), for example using ravel().\n",
      "  y = column_or_1d(y, warn=True)\n",
      "c:\\Users\\wat6sv\\AppData\\Local\\miniconda3\\Lib\\site-packages\\sklearn\\linear_model\\_logistic.py:458: ConvergenceWarning: lbfgs failed to converge (status=1):\n",
      "STOP: TOTAL NO. of ITERATIONS REACHED LIMIT.\n",
      "\n",
      "Increase the number of iterations (max_iter) or scale the data as shown in:\n",
      "    https://scikit-learn.org/stable/modules/preprocessing.html\n",
      "Please also refer to the documentation for alternative solver options:\n",
      "    https://scikit-learn.org/stable/modules/linear_model.html#logistic-regression\n",
      "  n_iter_i = _check_optimize_result(\n"
     ]
    }
   ],
   "source": [
    "## train model\n",
    "\n",
    "lreg = LogisticRegression() #initialize a logistic regression model\n",
    "lreg.fit(X_train, y_train) #train this model using our training data\n",
    "\n",
    "y_pred = lreg.predict(X_test) # store predicted values for the test set"
   ]
  },
  {
   "cell_type": "markdown",
   "metadata": {},
   "source": [
    "#### Average accuracy on test data"
   ]
  },
  {
   "cell_type": "code",
   "execution_count": 27,
   "metadata": {},
   "outputs": [
    {
     "name": "stdout",
     "output_type": "stream",
     "text": [
      "Average accuracy on test data:\t 84.53 %\n"
     ]
    }
   ],
   "source": [
    "print(\"Average accuracy on test data:\\t\",round(lreg.score(X_test, y_test)*100,2),\"%\")\n"
   ]
  },
  {
   "cell_type": "markdown",
   "metadata": {},
   "source": [
    "### Fairness Metrics\n",
    "\n",
    "We are using the Fairlearn package in Python. \n",
    "\n",
    "You will need to understand what the metric used below mean and how they are calculated. You can find information on the functions used in their documentation: https://fairlearn.org/v0.10/api_reference/index.html#module-fairlearn.metrics"
   ]
  },
  {
   "cell_type": "code",
   "execution_count": 76,
   "metadata": {},
   "outputs": [],
   "source": [
    "# Construct a function dictionary with the metrics we'd like for each class\n",
    "my_metrics = {\n",
    "    'true positive rate' : true_positive_rate,\n",
    "    'false positive rate' : false_positive_rate,\n",
    "    'selection rate' : selection_rate,\n",
    "    'count' : count\n",
    "}\n",
    "# Construct a MetricFrame for race\n",
    "mf_race = MetricFrame(\n",
    "    metrics=my_metrics,\n",
    "    y_true=y_test,\n",
    "    y_pred=y_pred,\n",
    "    sensitive_features=X_test[\"race_Non-White\"]\n",
    ")\n",
    "\n",
    "# Construct a MetricFrame for sex\n",
    "mf_sex = MetricFrame(\n",
    "    metrics=my_metrics,\n",
    "    y_true=y_test,\n",
    "    y_pred=y_pred,\n",
    "    sensitive_features=X_test[\"sex_Female\"]\n",
    ")"
   ]
  },
  {
   "cell_type": "code",
   "execution_count": 54,
   "metadata": {},
   "outputs": [],
   "source": [
    "def create_confmatrix(y_test, y_pred):\n",
    "    '''\n",
    "    creates a confusion matrix with more descriptive formatting\n",
    "    '''\n",
    "    tn, fp, fn, tp = confusion_matrix(y_test, y_pred).ravel() # grab the individual values\n",
    "    \n",
    "    # create a data frame with the values in the correct spots\n",
    "    conf_matrix = pd.DataFrame({'predicted positive': [tp, fp], \n",
    "                                'predicted negative': [fn, tn]},\n",
    "                                index=['actual positive','actual negative'])\n",
    "    \n",
    "    # return the dataframe to be saved/viewed\n",
    "    return conf_matrix"
   ]
  },
  {
   "cell_type": "markdown",
   "metadata": {},
   "source": [
    "#### Overall metrics\n",
    "\n",
    "Here is the confusion matrix for the model overall with *counts* for the true positive, false positive, true negative, and false negative.\n",
    "\n",
    "For more information on confusion matrices, check out the wiki page: https://en.wikipedia.org/wiki/Confusion_matrix"
   ]
  },
  {
   "cell_type": "code",
   "execution_count": 74,
   "metadata": {},
   "outputs": [
    {
     "name": "stdout",
     "output_type": "stream",
     "text": [
      "Confusion matrix for all test data:\n"
     ]
    },
    {
     "data": {
      "text/html": [
       "<div>\n",
       "<style scoped>\n",
       "    .dataframe tbody tr th:only-of-type {\n",
       "        vertical-align: middle;\n",
       "    }\n",
       "\n",
       "    .dataframe tbody tr th {\n",
       "        vertical-align: top;\n",
       "    }\n",
       "\n",
       "    .dataframe thead th {\n",
       "        text-align: right;\n",
       "    }\n",
       "</style>\n",
       "<table border=\"1\" class=\"dataframe\">\n",
       "  <thead>\n",
       "    <tr style=\"text-align: right;\">\n",
       "      <th></th>\n",
       "      <th>predicted positive</th>\n",
       "      <th>predicted negative</th>\n",
       "    </tr>\n",
       "  </thead>\n",
       "  <tbody>\n",
       "    <tr>\n",
       "      <th>actual positive</th>\n",
       "      <td>1669</td>\n",
       "      <td>1284</td>\n",
       "    </tr>\n",
       "    <tr>\n",
       "      <th>actual negative</th>\n",
       "      <td>605</td>\n",
       "      <td>8653</td>\n",
       "    </tr>\n",
       "  </tbody>\n",
       "</table>\n",
       "</div>"
      ],
      "text/plain": [
       "                 predicted positive  predicted negative\n",
       "actual positive                1669                1284\n",
       "actual negative                 605                8653"
      ]
     },
     "execution_count": 74,
     "metadata": {},
     "output_type": "execute_result"
    }
   ],
   "source": [
    "# overall confusion matrix\n",
    "print(\"Confusion matrix for all test data:\") \n",
    "create_confmatrix(y_test, y_pred)"
   ]
  },
  {
   "cell_type": "code",
   "execution_count": 82,
   "metadata": {},
   "outputs": [
    {
     "data": {
      "text/html": [
       "<div>\n",
       "<style scoped>\n",
       "    .dataframe tbody tr th:only-of-type {\n",
       "        vertical-align: middle;\n",
       "    }\n",
       "\n",
       "    .dataframe tbody tr th {\n",
       "        vertical-align: top;\n",
       "    }\n",
       "\n",
       "    .dataframe thead th {\n",
       "        text-align: right;\n",
       "    }\n",
       "</style>\n",
       "<table border=\"1\" class=\"dataframe\">\n",
       "  <thead>\n",
       "    <tr style=\"text-align: right;\">\n",
       "      <th></th>\n",
       "      <th>true positive rate</th>\n",
       "      <th>false positive rate</th>\n",
       "      <th>selection rate</th>\n",
       "      <th>count</th>\n",
       "    </tr>\n",
       "  </thead>\n",
       "  <tbody>\n",
       "    <tr>\n",
       "      <th>overall</th>\n",
       "      <td>0.565188</td>\n",
       "      <td>0.065349</td>\n",
       "      <td>0.186226</td>\n",
       "      <td>12211.0</td>\n",
       "    </tr>\n",
       "  </tbody>\n",
       "</table>\n",
       "</div>"
      ],
      "text/plain": [
       "         true positive rate  false positive rate  selection rate    count\n",
       "overall            0.565188             0.065349        0.186226  12211.0"
      ]
     },
     "execution_count": 82,
     "metadata": {},
     "output_type": "execute_result"
    }
   ],
   "source": [
    "## The overall metrics. You'll use these to compare to with the metrics broken down by each protected class below. \n",
    "## Think about how the differing performance would impact that group based on your understanding of each metric.\n",
    "pd.DataFrame(mf_race.overall, columns = [\"overall\"]).T"
   ]
  },
  {
   "cell_type": "markdown",
   "metadata": {},
   "source": [
    "Now we can look at fairness metrics for each protected class:"
   ]
  },
  {
   "cell_type": "markdown",
   "metadata": {},
   "source": [
    "#### Race"
   ]
  },
  {
   "cell_type": "code",
   "execution_count": 37,
   "metadata": {},
   "outputs": [
    {
     "data": {
      "text/html": [
       "<div>\n",
       "<style scoped>\n",
       "    .dataframe tbody tr th:only-of-type {\n",
       "        vertical-align: middle;\n",
       "    }\n",
       "\n",
       "    .dataframe tbody tr th {\n",
       "        vertical-align: top;\n",
       "    }\n",
       "\n",
       "    .dataframe thead th {\n",
       "        text-align: right;\n",
       "    }\n",
       "</style>\n",
       "<table border=\"1\" class=\"dataframe\">\n",
       "  <thead>\n",
       "    <tr style=\"text-align: right;\">\n",
       "      <th></th>\n",
       "      <th>true positive rate</th>\n",
       "      <th>false positive rate</th>\n",
       "      <th>selection rate</th>\n",
       "      <th>count</th>\n",
       "    </tr>\n",
       "    <tr>\n",
       "      <th>race_Non-White</th>\n",
       "      <th></th>\n",
       "      <th></th>\n",
       "      <th></th>\n",
       "      <th></th>\n",
       "    </tr>\n",
       "  </thead>\n",
       "  <tbody>\n",
       "    <tr>\n",
       "      <th>False</th>\n",
       "      <td>0.572874</td>\n",
       "      <td>0.070543</td>\n",
       "      <td>0.199347</td>\n",
       "      <td>10409.0</td>\n",
       "    </tr>\n",
       "    <tr>\n",
       "      <th>True</th>\n",
       "      <td>0.492958</td>\n",
       "      <td>0.038867</td>\n",
       "      <td>0.110433</td>\n",
       "      <td>1802.0</td>\n",
       "    </tr>\n",
       "  </tbody>\n",
       "</table>\n",
       "</div>"
      ],
      "text/plain": [
       "                true positive rate  false positive rate  selection rate  \\\n",
       "race_Non-White                                                            \n",
       "False                     0.572874             0.070543        0.199347   \n",
       "True                      0.492958             0.038867        0.110433   \n",
       "\n",
       "                  count  \n",
       "race_Non-White           \n",
       "False           10409.0  \n",
       "True             1802.0  "
      ]
     },
     "execution_count": 37,
     "metadata": {},
     "output_type": "execute_result"
    }
   ],
   "source": [
    "## metrics broken down by race classes. Compare these to the metrics above. \n",
    "mf_race.by_group"
   ]
  },
  {
   "cell_type": "code",
   "execution_count": 28,
   "metadata": {},
   "outputs": [
    {
     "name": "stdout",
     "output_type": "stream",
     "text": [
      "Demographic Parity ratio:\t 0.5539737640907693\n",
      "Equalized Odds ratio:\t\t 0.5509707683620727\n"
     ]
    }
   ],
   "source": [
    "# Derived fairness metrics. Be sure you understand the scale and meaning of these.\n",
    "\n",
    "dpr_race = fairlearn.metrics.demographic_parity_ratio(y_test, y_pred, sensitive_features=X_test.filter(regex=\"race.*\"))\n",
    "print(\"Demographic Parity ratio:\\t\", dpr_race)\n",
    "\n",
    "eodds_race = fairlearn.metrics.equalized_odds_ratio(y_test, y_pred, sensitive_features=X_test.filter(regex=\"race.*\"))\n",
    "print(\"Equalized Odds ratio:\\t\\t\", eodds_race)"
   ]
  },
  {
   "cell_type": "markdown",
   "metadata": {},
   "source": [
    "#### Sex"
   ]
  },
  {
   "cell_type": "code",
   "execution_count": 29,
   "metadata": {},
   "outputs": [
    {
     "data": {
      "text/html": [
       "<div>\n",
       "<style scoped>\n",
       "    .dataframe tbody tr th:only-of-type {\n",
       "        vertical-align: middle;\n",
       "    }\n",
       "\n",
       "    .dataframe tbody tr th {\n",
       "        vertical-align: top;\n",
       "    }\n",
       "\n",
       "    .dataframe thead th {\n",
       "        text-align: right;\n",
       "    }\n",
       "</style>\n",
       "<table border=\"1\" class=\"dataframe\">\n",
       "  <thead>\n",
       "    <tr style=\"text-align: right;\">\n",
       "      <th></th>\n",
       "      <th>true positive rate</th>\n",
       "      <th>false positive rate</th>\n",
       "      <th>selection rate</th>\n",
       "      <th>count</th>\n",
       "    </tr>\n",
       "    <tr>\n",
       "      <th>sex_Female</th>\n",
       "      <th></th>\n",
       "      <th></th>\n",
       "      <th></th>\n",
       "      <th></th>\n",
       "    </tr>\n",
       "  </thead>\n",
       "  <tbody>\n",
       "    <tr>\n",
       "      <th>False</th>\n",
       "      <td>0.591419</td>\n",
       "      <td>0.096322</td>\n",
       "      <td>0.246831</td>\n",
       "      <td>8204.0</td>\n",
       "    </tr>\n",
       "    <tr>\n",
       "      <th>True</th>\n",
       "      <td>0.422658</td>\n",
       "      <td>0.015502</td>\n",
       "      <td>0.062141</td>\n",
       "      <td>4007.0</td>\n",
       "    </tr>\n",
       "  </tbody>\n",
       "</table>\n",
       "</div>"
      ],
      "text/plain": [
       "            true positive rate  false positive rate  selection rate   count\n",
       "sex_Female                                                                 \n",
       "False                 0.591419             0.096322        0.246831  8204.0\n",
       "True                  0.422658             0.015502        0.062141  4007.0"
      ]
     },
     "execution_count": 29,
     "metadata": {},
     "output_type": "execute_result"
    }
   ],
   "source": [
    "## metrics broken down by sex classes. Compare these to the metrics above. \n",
    "\n",
    "mf_sex.by_group"
   ]
  },
  {
   "cell_type": "code",
   "execution_count": 30,
   "metadata": {},
   "outputs": [
    {
     "name": "stdout",
     "output_type": "stream",
     "text": [
      "Demographic Parity ratio:\t 0.25175646322639084\n",
      "Equalized Odds ratio:\t\t 0.16093573844419393\n"
     ]
    }
   ],
   "source": [
    "# Derived fairness metrics. Be sure you understand the scale and meaning of these.\n",
    "\n",
    "dpr_sex = fairlearn.metrics.demographic_parity_ratio(y_test, y_pred, sensitive_features=X_test.filter(regex=\"sex.*\"))\n",
    "print(\"Demographic Parity ratio:\\t\", dpr_sex)\n",
    "\n",
    "eodds_sex = fairlearn.metrics.equalized_odds_ratio(y_test, y_pred, sensitive_features=X_test.filter(regex=\"sex.*\"))\n",
    "print(\"Equalized Odds ratio:\\t\\t\", eodds_sex)"
   ]
  }
 ],
 "metadata": {
  "kernelspec": {
   "display_name": "base",
   "language": "python",
   "name": "python3"
  },
  "language_info": {
   "codemirror_mode": {
    "name": "ipython",
    "version": 3
   },
   "file_extension": ".py",
   "mimetype": "text/x-python",
   "name": "python",
   "nbconvert_exporter": "python",
   "pygments_lexer": "ipython3",
   "version": "3.11.4"
  }
 },
 "nbformat": 4,
 "nbformat_minor": 2
}
