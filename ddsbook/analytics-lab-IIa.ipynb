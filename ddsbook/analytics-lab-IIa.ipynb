{
 "cells": [
  {
   "cell_type": "raw",
   "metadata": {},
   "source": [
    "---\n",
    "title: \"Garbage in Garbage Out\"\n",
    "format: html\n",
    "---"
   ]
  },
  {
   "attachments": {},
   "cell_type": "markdown",
   "metadata": {},
   "source": [
    "[![Open In Colab](https://colab.research.google.com/assets/colab-badge.svg)](https://colab.research.google.com/github/UVADS/DS1001/blob/master/ddsbook/analytics-lab-II.qmd)"
   ]
  },
  {
   "cell_type": "code",
   "execution_count": 2,
   "metadata": {},
   "outputs": [],
   "source": [
    "# pip install statsmodels\n",
    "import numpy as np\n",
    "import pandas as pd\n",
    "import matplotlib.pyplot as plt \n",
    "import statsmodels.api as sm\n"
   ]
  },
  {
   "attachments": {},
   "cell_type": "markdown",
   "metadata": {},
   "source": [
    "#### What we are going to do is add Gaussian noise iteratively to a dataset and then pass the new noisy dataset to a pre-trained machine linear model and track the ability of the model to learn the target as noise increases. \n",
    "\n",
    "1. Read this brief article on garbage in garbage out and this brief article on Gaussian noise. \n",
    "\n",
    "2. Answer the questions below as they relate to model output and the articles."
   ]
  },
  {
   "cell_type": "code",
   "execution_count": 4,
   "metadata": {},
   "outputs": [],
   "source": [
    "# This is the dataset we will be using: classic eruption times for old faithful. \n",
    "# Take a look at the documentation \n",
    "# here: https://www.rdocumentation.org/packages/datasets/versions/3.6.2/topics/faithful\n",
    "\n",
    "\n",
    "# This is our data source\n",
    "url=\"https://gist.githubusercontent.com/curran/4b59d1046d9e66f2787780ad51a1cd87/raw/9ec906b78a98cf300947a37b56cfe70d01183200/data.tsv\"\n",
    "\n",
    "\n",
    "# Reading in the data, and use the \"tab\" as a separator so the data will be loaded \n",
    "# in correctly.  pd stands for pandas and \"pd.read_csv\" is the function we are \n",
    "# using to read in the data from the url.\n",
    "old_faith = pd.read_csv(url, sep='\\t')\n"
   ]
  },
  {
   "attachments": {},
   "cell_type": "markdown",
   "metadata": {},
   "source": [
    "#### Let's take a quick look at a plot to get an idea of the distribution of the data. "
   ]
  },
  {
   "cell_type": "code",
   "execution_count": 5,
   "metadata": {},
   "outputs": [
    {
     "data": {
      "image/png": "[encoded data removed]",
      "text/plain": [
       "<Figure size 432x288 with 1 Axes>"
      ]
     },
     "metadata": {
      "needs_background": "light"
     },
     "output_type": "display_data"
    }
   ],
   "source": [
    "plt.scatter(old_faith.eruptions, old_faith.waiting, alpha=0.5)\n",
    "plt.xlabel(\"Eruption Time\")\n",
    "plt.ylabel(\"Waiting Time\")\n",
    "\n",
    "plt.show()\n",
    "\n",
    "# Note the patterns that you see, (you'll need this for your submission) "
   ]
  },
  {
   "attachments": {},
   "cell_type": "markdown",
   "metadata": {},
   "source": [
    "#### Next lets build a simple model to predict Eruption Length based on Waiting Time "
   ]
  },
  {
   "cell_type": "code",
   "execution_count": null,
   "metadata": {},
   "outputs": [],
   "source": [
    "lm = sm.OLS(old_faith['waiting'],old_faith['eruptions']).fit()\n",
    "\n",
    "lm.summary()\n",
    "\n",
    "#Using the R2 measure, how well does the model predict (scale of 0 to 1,\n",
    "#  where 1 is perfect, again needed for your submission)"
   ]
  },
  {
   "attachments": {},
   "cell_type": "markdown",
   "metadata": {},
   "source": [
    "#### Now let's take a look at that same scatter plot but with the new data"
   ]
  },
  {
   "cell_type": "code",
   "execution_count": null,
   "metadata": {},
   "outputs": [],
   "source": [
    "plt.scatter(old_faith_1.eruptions, old_faith_1.waiting, alpha=0.5)\n",
    "plt.xlabel(\"Eruption Time\")\n",
    "plt.ylabel(\"Waiting Time\")\n",
    "\n",
    "plt.show()"
   ]
  },
  {
   "attachments": {},
   "cell_type": "markdown",
   "metadata": {},
   "source": [
    "#### Task 1: Slowly change the standard deviation (increases of .25) and see what happens with the R2 number, note the pace of change of the model (write it down).  \n",
    "\n",
    "#### Task 2: Adjust the mean but leave the standard dev low, note how this effects the model.  \n",
    "\n",
    "## Questions for submission: \n",
    "\n",
    "1. What patterns do you see in the data (from the scatter plot)? \n",
    "\n",
    "2. How well did the first model fit the data (from the model output)? \n",
    "\n",
    "3. Explain the concept behind noise versus signal as it relates to example today on the old faithful dataset.  \n",
    "\n",
    "4. Define the concept of gaussian noise and explain the observations you noted as it relates to expanding \n",
    "the noise of the dataset.  "
   ]
  }
 ],
 "metadata": {
  "kernelspec": {
   "display_name": "base",
   "language": "python",
   "name": "python3"
  },
  "language_info": {
   "codemirror_mode": {
    "name": "ipython",
    "version": 3
   },
   "file_extension": ".py",
   "mimetype": "text/x-python",
   "name": "python",
   "nbconvert_exporter": "python",
   "pygments_lexer": "ipython3",
   "version": "3.9.12"
  },
  "orig_nbformat": 4
 },
 "nbformat": 4,
 "nbformat_minor": 2
}
