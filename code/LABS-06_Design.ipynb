{
 "cells": [
  {
   "cell_type": "markdown",
   "id": "879c2ef2",
   "metadata": {},
   "source": [
    "# LABS-6: Design Project\n",
    "\n",
    "In this notebook you will run and edit the code to perform some exploratory data analytics (EDA) and to develop and answer a question using data.\n",
    "\n",
    "**Data**\\\n",
    "This dataset comes from IMDB and can be accessed on [Kaggle](https://www.kaggle.com/datasets/ashpalsingh1525/imdb-movies-dataset)."
   ]
  },
  {
   "cell_type": "markdown",
   "id": "0334b281",
   "metadata": {},
   "source": [
    "## Set up environment"
   ]
  },
  {
   "cell_type": "code",
   "execution_count": 2,
   "id": "8ca62288",
   "metadata": {},
   "outputs": [
    {
     "ename": "ModuleNotFoundError",
     "evalue": "No module named 'pandas'",
     "output_type": "error",
     "traceback": [
      "\u001b[31m---------------------------------------------------------------------------\u001b[39m",
      "\u001b[31mModuleNotFoundError\u001b[39m                       Traceback (most recent call last)",
      "\u001b[36mCell\u001b[39m\u001b[36m \u001b[39m\u001b[32mIn[2]\u001b[39m\u001b[32m, line 4\u001b[39m\n\u001b[32m      1\u001b[39m \u001b[38;5;66;03m## import packages\u001b[39;00m\n\u001b[32m      2\u001b[39m \u001b[38;5;66;03m# ADD what each package is\u001b[39;00m\n\u001b[32m----> \u001b[39m\u001b[32m4\u001b[39m \u001b[38;5;28;01mimport\u001b[39;00m\u001b[38;5;250m \u001b[39m\u001b[34;01mpandas\u001b[39;00m\u001b[38;5;250m \u001b[39m\u001b[38;5;28;01mas\u001b[39;00m\u001b[38;5;250m \u001b[39m\u001b[34;01mpd\u001b[39;00m \n\u001b[32m      5\u001b[39m \u001b[38;5;28;01mimport\u001b[39;00m\u001b[38;5;250m \u001b[39m\u001b[34;01mnumpy\u001b[39;00m\u001b[38;5;250m \u001b[39m\u001b[38;5;28;01mas\u001b[39;00m\u001b[38;5;250m \u001b[39m\u001b[34;01mnp\u001b[39;00m \n\u001b[32m      6\u001b[39m \u001b[38;5;28;01mimport\u001b[39;00m\u001b[38;5;250m \u001b[39m\u001b[34;01mmatplotlib\u001b[39;00m\u001b[34;01m.\u001b[39;00m\u001b[34;01mpyplot\u001b[39;00m\u001b[38;5;250m \u001b[39m\u001b[38;5;28;01mas\u001b[39;00m\u001b[38;5;250m \u001b[39m\u001b[34;01mplt\u001b[39;00m\n",
      "\u001b[31mModuleNotFoundError\u001b[39m: No module named 'pandas'"
     ]
    }
   ],
   "source": [
    "## import packages\n",
    "# ADD what each package is\n",
    "\n",
    "import pandas as pd \n",
    "import numpy as np \n",
    "import matplotlib.pyplot as plt\n",
    "import seaborn as sns\n",
    "from scipy.stats import gaussian_kde"
   ]
  },
  {
   "cell_type": "code",
   "execution_count": null,
   "id": "a9110372",
   "metadata": {},
   "outputs": [],
   "source": [
    "# Read in data\n",
    "data = pd.read_csv(\"imdb_movies.csv\")"
   ]
  },
  {
   "cell_type": "markdown",
   "id": "fcbfbe2a",
   "metadata": {},
   "source": [
    "## Understand your data\n",
    "\n",
    "First we want to understand what the data looks like and how much of it there is. \\\n",
    "To do that, we can start by looking at: \n",
    "- the shape of the data\n",
    "- viewing a portion of the data\n",
    "- checking the data types for each column\n",
    "- looking at the summary stats of our numeric columns\n",
    "\n",
    "The data is stored in a [pandas dataframe](https://pandas.pydata.org/docs/reference/api/pandas.DataFrame.html). This is a tabular data structure that can store different types of data like numbers and text. Dataframes are an object in python, and therfore have attributes and methods that we can use to help us understand the data. You will learn several of these below."
   ]
  },
  {
   "cell_type": "markdown",
   "id": "4e214f81",
   "metadata": {},
   "source": [
    "### Shape\n",
    "\n",
    "The [shape](https://pandas.pydata.org/docs/reference/api/pandas.DataFrame.shape.html#pandas.DataFrame.shape) attribute tells us the shape of the data, or how many rows and columns are in our dataset. \n",
    "\n",
    "Since this is an attribute, we call it using this format: `df.shape` where `df` is the name of your dataframe.\n",
    "\n",
    "This attribute returns the shape in this format: (# rows, # columns)\n",
    "\n",
    "Run the cell below to get the shape of the dataframe and answer **question X**.\n"
   ]
  },
  {
   "cell_type": "code",
   "execution_count": null,
   "id": "36d5224c",
   "metadata": {},
   "outputs": [],
   "source": [
    "data.shape"
   ]
  },
  {
   "cell_type": "markdown",
   "id": "3ae4e773",
   "metadata": {},
   "source": [
    "### View a portion of the Data\n",
    "\n",
    "It is useful to be able to see what our data actually looks like - but we usually only need to see a few rows to understand what it looks like. Dataframes have a method called [`.head()`](https://pandas.pydata.org/docs/reference/api/pandas.DataFrame.head.html#pandas.DataFrame.head) that displays the first *n* rows of the dataframe. \n",
    "\n",
    "Since this is a method, we call it using this format: `df.head()` where `df` is the name of your dataframe.\n",
    "\n",
    "You can specify how many rows you want to see by specifying the *n* parameter inside the parenthesis. Let's look at the first 10 rows of our dataframe. Run the cell below to see data."
   ]
  },
  {
   "cell_type": "code",
   "execution_count": null,
   "id": "37fba2e3",
   "metadata": {},
   "outputs": [],
   "source": [
    "data.head(n=10)"
   ]
  },
  {
   "cell_type": "markdown",
   "id": "32365044",
   "metadata": {},
   "source": [
    "### Check data types for each column\n",
    "\n",
    "Now we will check the data types so we know how to handle each column during cleaning and analysis. The [`.info()`](https://pandas.pydata.org/docs/reference/api/pandas.DataFrame.info.html#pandas.DataFrame.info) method gives us a quick summary of the dataset. It tells us how many entries (rows) there are, the names of the columns, the data type stored in each column, and how many values are missing.\n",
    "\n",
    "Since this is a method, we call it like a function using this format: `df.info()` where `df` is the name of your DataFrame.\n",
    "\n",
    "This method prints the details directly to the workspace.\n",
    "\n",
    "\n",
    "**In the cell below, write the code to call the .info() method on `data`. Use the previous examples and documentation linked above to help you.**"
   ]
  },
  {
   "cell_type": "code",
   "execution_count": null,
   "id": "c7f132c8",
   "metadata": {},
   "outputs": [],
   "source": [
    "# ENTER YOUR CODE TO RUN .info() HERE\n",
    "data.info()\n"
   ]
  },
  {
   "cell_type": "markdown",
   "id": "70d4b227",
   "metadata": {},
   "source": [
    "Here are a few helpful tips to help you answer **question X**:\n",
    "- Python stores numbers either as integers (int) or floating point decimals (float). Python stores other data types (like strings and lists) as objects.\n",
    "- \"non-null\" means rows without missing values."
   ]
  },
  {
   "cell_type": "markdown",
   "id": "3391311a",
   "metadata": {},
   "source": [
    "### Look at summary stats for numeric columns\n",
    "\n",
    "Now we will summarize our columns to spot patterns and outliers during cleaning and analysis. The [`.describe()`](https://pandas.pydata.org/docs/reference/api/pandas.DataFrame.describe.html#pandas.DataFrame.describe) method gives us a quick set of summary statistics. By default, it reports the following values for numeric columns: \n",
    "- count\n",
    "- mean\n",
    "- standard deviation\n",
    "- minimum\n",
    "- quartiles (25%, 50%, 75%)\n",
    "- maximum\n",
    "\n",
    "Since this is a method, we call it using this format: `df.describe()` where `df` is the name of your DataFrame.\n",
    "\n",
    "This method returns a new DataFrame of summary statistics.\n",
    "\n",
    "**In the cell below, write the code to call the .describe() method on `data`. Use the previous examples and documentation linked above to help you.**"
   ]
  },
  {
   "cell_type": "code",
   "execution_count": null,
   "id": "77c2b43b",
   "metadata": {},
   "outputs": [],
   "source": [
    "# ENTER YOUR CODE TO RUN .describe() HERE\n",
    "\n"
   ]
  },
  {
   "cell_type": "markdown",
   "id": "ae52bc19",
   "metadata": {},
   "source": [
    "## Visualize the Data\n",
    "\n",
    "Now we want to visualize the data to see if we can pull out any initial trends off the bat. These will inform the questions we ask and our modeling process later on. We will use 3 common graphs to look at some baseline relationships and distributions of our data:\n",
    "- Scatterplot\n",
    "- Bar chart\n",
    "- Density plot\n",
    "\n",
    "It is important to remember that the point of this process it to understand trends and distributions of your data. There are many other plots data scientists use to do this - these are just a few basic ones.\n",
    "\n",
    "To visualize the data we will use 2 packages: [`MatPlotLib`](https://matplotlib.org/) and [`Seaborn`](https://seaborn.pydata.org/). These were imported at the beginning of the notebook with aliases - short hand that we can use to reference the package in our code. The alias for `MatPlotLib` is `plt` and `Seaborn` is `sns`. These are the standard aliases used for these packages. "
   ]
  },
  {
   "cell_type": "markdown",
   "id": "4d8c80db",
   "metadata": {},
   "source": [
    "### Scatterplot\n",
    "\n",
    "[Scatterplots](https://matplotlib.org/stable/gallery/shapes_and_collections/scatter.html) show the relationship between 2 or more variables. You can add other features, like point shape and color, to your graph to see relationships of additional variables.\n",
    "\n",
    "Run the cell below to create a scatterplot of the relationship between movie budget and revenue."
   ]
  },
  {
   "cell_type": "code",
   "execution_count": null,
   "id": "063767fb",
   "metadata": {},
   "outputs": [],
   "source": [
    "fig, ax = plt.subplots(figsize=(15, 10))\n",
    "ax.scatter(data['budget_x'], data['revenue'])\n",
    "\n",
    "plt.ylabel(\"Revenue (in billions USD)\")\n",
    "plt.xlabel(\"Budget (in one hundred millions USD)\")\n",
    "plt.title(\"Budget and Revenue relationship\")\n",
    "plt.show()"
   ]
  },
  {
   "cell_type": "markdown",
   "id": "08493162",
   "metadata": {},
   "source": [
    "### Bar Chart\n",
    "\n",
    "A [Bar Chart](https://matplotlib.org/stable/api/_as_gen/matplotlib.pyplot.bar.html#matplotlib.pyplot.bar) shows comparisons between categories by using rectangular bars. The height of each bar represents the value or frequency of that category. You can customize bar color, orientation, and grouping to highlight patterns or differences across multiple variables.\n",
    "\n",
    "The cell below has the code to produce a bar chart using the default color settings. **Use the documentation linked above to change the color of the bars.**"
   ]
  },
  {
   "cell_type": "code",
   "execution_count": null,
   "id": "405a583b",
   "metadata": {},
   "outputs": [],
   "source": [
    "country_counts = data['country'].value_counts()\n",
    "\n",
    "fig, ax = plt.subplots(figsize=(15, 10))\n",
    "ax.bar(country_counts.index, country_counts.values) \n",
    "ax.tick_params(\"x\", rotation=45)\n",
    "\n",
    "plt.ylabel(\"count\")\n",
    "plt.xlabel(\"country\")\n",
    "plt.title(\"Count of movies per country\")\n",
    "plt.show()"
   ]
  },
  {
   "cell_type": "markdown",
   "id": "f326d1e9",
   "metadata": {},
   "source": [
    "### Density plot\n",
    "\n",
    "A [Density Plot]() shows the distribution of a continuous variable by estimating its probability density function. This is similar to histograms, but density plots use smooth curves to represent data, making it easier to compare distributions and spot patterns. You can adjust the smoothness and overlay multiple curves to explore differences across groups.\n",
    "\n",
    "The cell below has the code to produce a Density plot, but is missing a title. **Add the code to produce a title before running the cell.**"
   ]
  },
  {
   "cell_type": "code",
   "execution_count": null,
   "id": "65c74839",
   "metadata": {},
   "outputs": [],
   "source": [
    "x = data['score']\n",
    "plt.figure(figsize=(15, 10))\n",
    "sns.kdeplot(data=data, x=\"score\")\n",
    "\n",
    "## ADD CODE TO PRODUCE TITLE HERE\n",
    "plt.show()"
   ]
  },
  {
   "cell_type": "markdown",
   "id": "69e7fafc",
   "metadata": {},
   "source": [
    "## Develop and Answer a Question"
   ]
  },
  {
   "cell_type": "code",
   "execution_count": null,
   "id": "e5078e47",
   "metadata": {},
   "outputs": [],
   "source": [
    "correlation_matrix = data[['score', 'budget_x', 'revenue']].corr()\n",
    "\n",
    "plt.figure(figsize=(15, 10))\n",
    "sns.heatmap(correlation_matrix, annot=True, cmap='coolwarm', fmt=\".2f\")\n",
    "plt.title('Correlation Matrix Heatmap')\n",
    "plt.show()"
   ]
  },
  {
   "cell_type": "code",
   "execution_count": null,
   "id": "d63fa622",
   "metadata": {},
   "outputs": [],
   "source": []
  },
  {
   "cell_type": "code",
   "execution_count": null,
   "id": "b0ff9a1c",
   "metadata": {},
   "outputs": [],
   "source": []
  },
  {
   "cell_type": "code",
   "execution_count": null,
   "id": "3c25a883",
   "metadata": {},
   "outputs": [],
   "source": []
  },
  {
   "cell_type": "markdown",
   "id": "b271f08c",
   "metadata": {},
   "source": [
    "# Delete this if not needed"
   ]
  },
  {
   "cell_type": "code",
   "execution_count": null,
   "id": "a2297c6b",
   "metadata": {},
   "outputs": [],
   "source": [
    "# pull lead actor from each movie + add it to dataframe\n",
    "\n",
    "crew = list(data['crew'].values)\n",
    "\n",
    "leads = []\n",
    "for movie in crew:\n",
    "    movie = str(movie).split(\",\")\n",
    "    actor1 = movie[0]\n",
    "    leads.append(actor1)\n",
    "\n",
    "leads = pd.DataFrame(leads, columns=['lead_actor'])\n",
    "\n",
    "data.join(leads)"
   ]
  },
  {
   "cell_type": "code",
   "execution_count": null,
   "id": "7c2e46a4",
   "metadata": {},
   "outputs": [],
   "source": []
  }
 ],
 "metadata": {
  "kernelspec": {
   "display_name": "brian_env",
   "language": "python",
   "name": "python3"
  },
  "language_info": {
   "codemirror_mode": {
    "name": "ipython",
    "version": 3
   },
   "file_extension": ".py",
   "mimetype": "text/x-python",
   "name": "python",
   "nbconvert_exporter": "python",
   "pygments_lexer": "ipython3",
   "version": "3.12.3"
  }
 },
 "nbformat": 4,
 "nbformat_minor": 5
}
