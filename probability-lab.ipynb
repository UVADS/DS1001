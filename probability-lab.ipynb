{
 "cells": [
  {
   "cell_type": "code",
   "execution_count": 1,
   "metadata": {},
   "outputs": [],
   "source": [
    "## import packages\n",
    "import pandas as pd\n",
    "import numpy as np\n",
    "import matplotlib.pyplot as plt"
   ]
  },
  {
   "cell_type": "code",
   "execution_count": 2,
   "metadata": {},
   "outputs": [
    {
     "data": {
      "text/html": [
       "<div>\n",
       "<style scoped>\n",
       "    .dataframe tbody tr th:only-of-type {\n",
       "        vertical-align: middle;\n",
       "    }\n",
       "\n",
       "    .dataframe tbody tr th {\n",
       "        vertical-align: top;\n",
       "    }\n",
       "\n",
       "    .dataframe thead th {\n",
       "        text-align: right;\n",
       "    }\n",
       "</style>\n",
       "<table border=\"1\" class=\"dataframe\">\n",
       "  <thead>\n",
       "    <tr style=\"text-align: right;\">\n",
       "      <th></th>\n",
       "      <th>ID</th>\n",
       "      <th>Start time</th>\n",
       "      <th>Completion time</th>\n",
       "      <th>Email</th>\n",
       "      <th>Name</th>\n",
       "      <th>Last modified time</th>\n",
       "      <th>Enter your results from throw 1.</th>\n",
       "      <th>Enter your results from throw 2.</th>\n",
       "      <th>Enter your results from throw 3.</th>\n",
       "      <th>Enter your results from throw 4.</th>\n",
       "      <th>Enter your results from throw 5.</th>\n",
       "      <th>Enter your results from throw 6.</th>\n",
       "      <th>Enter your results from throw 7.</th>\n",
       "      <th>Enter your results from throw 8.</th>\n",
       "      <th>Enter your results from throw 9.</th>\n",
       "      <th>Enter your results from throw 10.</th>\n",
       "    </tr>\n",
       "  </thead>\n",
       "  <tbody>\n",
       "    <tr>\n",
       "      <th>0</th>\n",
       "      <td>1</td>\n",
       "      <td>10/29/24 15:16:29</td>\n",
       "      <td>10/29/24 15:18:11</td>\n",
       "      <td>wat6sv@virginia.edu</td>\n",
       "      <td>Ali Rivera</td>\n",
       "      <td>NaN</td>\n",
       "      <td>-2</td>\n",
       "      <td>0</td>\n",
       "      <td>-2</td>\n",
       "      <td>3</td>\n",
       "      <td>-2</td>\n",
       "      <td>-2</td>\n",
       "      <td>-2</td>\n",
       "      <td>-2</td>\n",
       "      <td>1</td>\n",
       "      <td>-2</td>\n",
       "    </tr>\n",
       "    <tr>\n",
       "      <th>1</th>\n",
       "      <td>2</td>\n",
       "      <td>10/29/24 15:31:32</td>\n",
       "      <td>10/29/24 15:31:58</td>\n",
       "      <td>wat6sv@virginia.edu</td>\n",
       "      <td>Ali Rivera</td>\n",
       "      <td>NaN</td>\n",
       "      <td>0</td>\n",
       "      <td>0</td>\n",
       "      <td>-2</td>\n",
       "      <td>-2</td>\n",
       "      <td>-2</td>\n",
       "      <td>1</td>\n",
       "      <td>-2</td>\n",
       "      <td>-2</td>\n",
       "      <td>-2</td>\n",
       "      <td>-2</td>\n",
       "    </tr>\n",
       "  </tbody>\n",
       "</table>\n",
       "</div>"
      ],
      "text/plain": [
       "   ID         Start time    Completion time                Email        Name  \\\n",
       "0   1  10/29/24 15:16:29  10/29/24 15:18:11  wat6sv@virginia.edu  Ali Rivera   \n",
       "1   2  10/29/24 15:31:32  10/29/24 15:31:58  wat6sv@virginia.edu  Ali Rivera   \n",
       "\n",
       "   Last modified time  Enter your results from throw 1.  \\\n",
       "0                 NaN                                -2   \n",
       "1                 NaN                                 0   \n",
       "\n",
       "   Enter your results from throw 2.  Enter your results from throw 3.  \\\n",
       "0                                 0                                -2   \n",
       "1                                 0                                -2   \n",
       "\n",
       "   Enter your results from throw 4.  Enter your results from throw 5.  \\\n",
       "0                                 3                                -2   \n",
       "1                                -2                                -2   \n",
       "\n",
       "   Enter your results from throw 6.  Enter your results from throw 7.  \\\n",
       "0                                -2                                -2   \n",
       "1                                 1                                -2   \n",
       "\n",
       "   Enter your results from throw 8.  Enter your results from throw 9.  \\\n",
       "0                                -2                                 1   \n",
       "1                                -2                                -2   \n",
       "\n",
       "   Enter your results from throw 10.  \n",
       "0                                 -2  \n",
       "1                                 -2  "
      ]
     },
     "execution_count": 2,
     "metadata": {},
     "output_type": "execute_result"
    }
   ],
   "source": [
    "# read in data\n",
    "data = pd.read_csv(input(\"Enter the file name:\"))\n",
    "data.head()"
   ]
  },
  {
   "cell_type": "code",
   "execution_count": 3,
   "metadata": {},
   "outputs": [],
   "source": [
    "# Drop the ID, Start time, Completion time, Email, Name, and Last modified time columns\n",
    "\n",
    "data.drop(columns=[\"ID\",\"Start time\",\"Completion time\",\"Email\",\"Name\",\"Last modified time\"], inplace=True)"
   ]
  },
  {
   "cell_type": "code",
   "execution_count": 13,
   "metadata": {},
   "outputs": [
    {
     "data": {
      "text/html": [
       "<div>\n",
       "<style scoped>\n",
       "    .dataframe tbody tr th:only-of-type {\n",
       "        vertical-align: middle;\n",
       "    }\n",
       "\n",
       "    .dataframe tbody tr th {\n",
       "        vertical-align: top;\n",
       "    }\n",
       "\n",
       "    .dataframe thead th {\n",
       "        text-align: right;\n",
       "    }\n",
       "</style>\n",
       "<table border=\"1\" class=\"dataframe\">\n",
       "  <thead>\n",
       "    <tr style=\"text-align: right;\">\n",
       "      <th></th>\n",
       "      <th>1</th>\n",
       "      <th>2</th>\n",
       "      <th>3</th>\n",
       "      <th>4</th>\n",
       "      <th>5</th>\n",
       "      <th>6</th>\n",
       "      <th>7</th>\n",
       "      <th>8</th>\n",
       "      <th>9</th>\n",
       "      <th>10</th>\n",
       "    </tr>\n",
       "  </thead>\n",
       "  <tbody>\n",
       "    <tr>\n",
       "      <th>0</th>\n",
       "      <td>-2</td>\n",
       "      <td>0</td>\n",
       "      <td>-2</td>\n",
       "      <td>3</td>\n",
       "      <td>-2</td>\n",
       "      <td>-2</td>\n",
       "      <td>-2</td>\n",
       "      <td>-2</td>\n",
       "      <td>1</td>\n",
       "      <td>-2</td>\n",
       "    </tr>\n",
       "    <tr>\n",
       "      <th>1</th>\n",
       "      <td>0</td>\n",
       "      <td>0</td>\n",
       "      <td>-2</td>\n",
       "      <td>-2</td>\n",
       "      <td>-2</td>\n",
       "      <td>1</td>\n",
       "      <td>-2</td>\n",
       "      <td>-2</td>\n",
       "      <td>-2</td>\n",
       "      <td>-2</td>\n",
       "    </tr>\n",
       "  </tbody>\n",
       "</table>\n",
       "</div>"
      ],
      "text/plain": [
       "   1   2   3   4   5   6   7   8   9   10\n",
       "0  -2   0  -2   3  -2  -2  -2  -2   1  -2\n",
       "1   0   0  -2  -2  -2   1  -2  -2  -2  -2"
      ]
     },
     "execution_count": 13,
     "metadata": {},
     "output_type": "execute_result"
    }
   ],
   "source": [
    "# rename columns for easier refernce\n",
    "\n",
    "data.columns = np.arange(1,11)\n",
    "data.head()"
   ]
  },
  {
   "cell_type": "code",
   "execution_count": 14,
   "metadata": {},
   "outputs": [],
   "source": [
    "## check that all entries are valid outcomes\n",
    "vals = [-2, 0, 1, 3]\n",
    "\n",
    "# remove any row that has unexpected values \n",
    "for i in np.arange(1,11):\n",
    "    data = data[data[i].isin(vals)]"
   ]
  },
  {
   "cell_type": "code",
   "execution_count": 16,
   "metadata": {},
   "outputs": [],
   "source": [
    "# Transpose and reset index (To just get ourcomes)\n",
    "all_data = data.T.reset_index(drop=True)"
   ]
  },
  {
   "cell_type": "code",
   "execution_count": 17,
   "metadata": {},
   "outputs": [
    {
     "data": {
      "text/plain": [
       "0   -2\n",
       "1    0\n",
       "2    0\n",
       "3    0\n",
       "4   -2\n",
       "dtype: int64"
      ]
     },
     "execution_count": 17,
     "metadata": {},
     "output_type": "execute_result"
    }
   ],
   "source": [
    "# Create a single column with all outcomes\n",
    "all_data = all_data.stack().reset_index(drop=True)\n",
    "all_data.head()"
   ]
  },
  {
   "cell_type": "code",
   "execution_count": 18,
   "metadata": {},
   "outputs": [
    {
     "data": {
      "text/html": [
       "<div>\n",
       "<style scoped>\n",
       "    .dataframe tbody tr th:only-of-type {\n",
       "        vertical-align: middle;\n",
       "    }\n",
       "\n",
       "    .dataframe tbody tr th {\n",
       "        vertical-align: top;\n",
       "    }\n",
       "\n",
       "    .dataframe thead th {\n",
       "        text-align: right;\n",
       "    }\n",
       "</style>\n",
       "<table border=\"1\" class=\"dataframe\">\n",
       "  <thead>\n",
       "    <tr style=\"text-align: right;\">\n",
       "      <th></th>\n",
       "      <th>1</th>\n",
       "      <th>2</th>\n",
       "      <th>3</th>\n",
       "      <th>4</th>\n",
       "      <th>5</th>\n",
       "      <th>6</th>\n",
       "      <th>7</th>\n",
       "      <th>8</th>\n",
       "      <th>9</th>\n",
       "      <th>10</th>\n",
       "      <th>net</th>\n",
       "    </tr>\n",
       "  </thead>\n",
       "  <tbody>\n",
       "    <tr>\n",
       "      <th>0</th>\n",
       "      <td>-2</td>\n",
       "      <td>0</td>\n",
       "      <td>-2</td>\n",
       "      <td>3</td>\n",
       "      <td>-2</td>\n",
       "      <td>-2</td>\n",
       "      <td>-2</td>\n",
       "      <td>-2</td>\n",
       "      <td>1</td>\n",
       "      <td>-2</td>\n",
       "      <td>-10</td>\n",
       "    </tr>\n",
       "    <tr>\n",
       "      <th>1</th>\n",
       "      <td>0</td>\n",
       "      <td>0</td>\n",
       "      <td>-2</td>\n",
       "      <td>-2</td>\n",
       "      <td>-2</td>\n",
       "      <td>1</td>\n",
       "      <td>-2</td>\n",
       "      <td>-2</td>\n",
       "      <td>-2</td>\n",
       "      <td>-2</td>\n",
       "      <td>-13</td>\n",
       "    </tr>\n",
       "  </tbody>\n",
       "</table>\n",
       "</div>"
      ],
      "text/plain": [
       "   1  2  3  4  5  6  7  8  9  10  net\n",
       "0 -2  0 -2  3 -2 -2 -2 -2  1  -2  -10\n",
       "1  0  0 -2 -2 -2  1 -2 -2 -2  -2  -13"
      ]
     },
     "execution_count": 18,
     "metadata": {},
     "output_type": "execute_result"
    }
   ],
   "source": [
    "# Calculate the net outcome of each player's 10 games\n",
    "\n",
    "data['net'] = data.apply(np.sum, axis=1)\n",
    "data.head()"
   ]
  },
  {
   "cell_type": "code",
   "execution_count": 19,
   "metadata": {},
   "outputs": [
    {
     "data": {
      "image/png": "[encoded data removed]",
      "text/plain": [
       "<Figure size 640x480 with 1 Axes>"
      ]
     },
     "metadata": {},
     "output_type": "display_data"
    }
   ],
   "source": [
    "# Plot the pmf of outcomes for the entire class\n",
    "\n",
    "fig, ax = plt.subplots(1, 1) \n",
    "\n",
    "plt.hist(all_data, range=(-3,4) )\n",
    "\n",
    "# Set title \n",
    "ax.set_title(\"Distribution of class outcomes\") \n",
    "  \n",
    "# adding labels \n",
    "ax.set_xlabel('Outcome') \n",
    "ax.set_ylabel('Count') \n",
    "\n",
    "\n",
    "plt.show()"
   ]
  },
  {
   "cell_type": "code",
   "execution_count": 20,
   "metadata": {},
   "outputs": [
    {
     "name": "stdout",
     "output_type": "stream",
     "text": [
      "Net outcome of class: -23 \n",
      "Average outcome per player: -11.5\n",
      "Number of players: 2 \n",
      "Number of throws: 20\n"
     ]
    }
   ],
   "source": [
    "# Print relevant summary stats\n",
    "\n",
    "print(f\"Net outcome of class: {data.net.sum()} \\nAverage outcome per player: {data.net.sum()/len(data)}\\nNumber of players: {len(data)} \\nNumber of throws: {len(all_data)}\")"
   ]
  },
  {
   "cell_type": "code",
   "execution_count": null,
   "metadata": {},
   "outputs": [],
   "source": []
  }
 ],
 "metadata": {
  "kernelspec": {
   "display_name": "Python 3",
   "language": "python",
   "name": "python3"
  },
  "language_info": {
   "codemirror_mode": {
    "name": "ipython",
    "version": 3
   },
   "file_extension": ".py",
   "mimetype": "text/x-python",
   "name": "python",
   "nbconvert_exporter": "python",
   "pygments_lexer": "ipython3",
   "version": "3.11.4"
  }
 },
 "nbformat": 4,
 "nbformat_minor": 2
}
